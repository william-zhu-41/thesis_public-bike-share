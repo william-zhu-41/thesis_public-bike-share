{
 "cells": [
  {
   "cell_type": "code",
   "execution_count": 1,
   "id": "8872aca2",
   "metadata": {
    "scrolled": true
   },
   "outputs": [
    {
     "name": "stderr",
     "output_type": "stream",
     "text": [
      "\n",
      "Bad key text.latex.preview in file /software/python-anaconda-2020.11-el8-x86_64/lib/python3.8/site-packages/matplotlib/mpl-data/stylelib/_classic_test.mplstyle, line 123 ('text.latex.preview : False')\n",
      "You probably need to get an updated matplotlibrc file from\n",
      "https://github.com/matplotlib/matplotlib/blob/v3.5.0/matplotlibrc.template\n",
      "or from the matplotlib source distribution\n",
      "\n",
      "Bad key mathtext.fallback_to_cm in file /software/python-anaconda-2020.11-el8-x86_64/lib/python3.8/site-packages/matplotlib/mpl-data/stylelib/_classic_test.mplstyle, line 155 ('mathtext.fallback_to_cm : True  # When True, use symbols from the Computer Modern')\n",
      "You probably need to get an updated matplotlibrc file from\n",
      "https://github.com/matplotlib/matplotlib/blob/v3.5.0/matplotlibrc.template\n",
      "or from the matplotlib source distribution\n",
      "\n",
      "Bad key savefig.jpeg_quality in file /software/python-anaconda-2020.11-el8-x86_64/lib/python3.8/site-packages/matplotlib/mpl-data/stylelib/_classic_test.mplstyle, line 418 ('savefig.jpeg_quality: 95       # when a jpeg is saved, the default quality parameter.')\n",
      "You probably need to get an updated matplotlibrc file from\n",
      "https://github.com/matplotlib/matplotlib/blob/v3.5.0/matplotlibrc.template\n",
      "or from the matplotlib source distribution\n",
      "\n",
      "Bad key keymap.all_axes in file /software/python-anaconda-2020.11-el8-x86_64/lib/python3.8/site-packages/matplotlib/mpl-data/stylelib/_classic_test.mplstyle, line 466 ('keymap.all_axes : a                 # enable all axes')\n",
      "You probably need to get an updated matplotlibrc file from\n",
      "https://github.com/matplotlib/matplotlib/blob/v3.5.0/matplotlibrc.template\n",
      "or from the matplotlib source distribution\n",
      "\n",
      "Bad key animation.avconv_path in file /software/python-anaconda-2020.11-el8-x86_64/lib/python3.8/site-packages/matplotlib/mpl-data/stylelib/_classic_test.mplstyle, line 477 ('animation.avconv_path: avconv     # Path to avconv binary. Without full path')\n",
      "You probably need to get an updated matplotlibrc file from\n",
      "https://github.com/matplotlib/matplotlib/blob/v3.5.0/matplotlibrc.template\n",
      "or from the matplotlib source distribution\n",
      "\n",
      "Bad key animation.avconv_args in file /software/python-anaconda-2020.11-el8-x86_64/lib/python3.8/site-packages/matplotlib/mpl-data/stylelib/_classic_test.mplstyle, line 479 ('animation.avconv_args:            # Additional arguments to pass to avconv')\n",
      "You probably need to get an updated matplotlibrc file from\n",
      "https://github.com/matplotlib/matplotlib/blob/v3.5.0/matplotlibrc.template\n",
      "or from the matplotlib source distribution\n"
     ]
    }
   ],
   "source": [
    "import pandas as pd\n",
    "import numpy as np\n",
    "import matplotlib.pyplot as plt\n",
    "import datetime"
   ]
  },
  {
   "cell_type": "markdown",
   "id": "bac719d2",
   "metadata": {},
   "source": [
    "# 1. Chicago"
   ]
  },
  {
   "cell_type": "code",
   "execution_count": 2,
   "id": "c2809da6",
   "metadata": {},
   "outputs": [],
   "source": [
    "df2 = pd.read_csv('../data/chicago/Divvy_Trips_2018_Q2.csv')\n",
    "df3 = pd.read_csv('../data/chicago/Divvy_Trips_2018_Q3.csv')\n",
    "df4 = pd.read_csv('../data/chicago/Divvy_Trips_2018_Q4.csv')\n",
    "df5 = pd.read_csv('../data/chicago/Divvy_Trips_2019_Q1.csv')\n",
    "df6 = pd.read_csv('../data/chicago/Divvy_Trips_2019_Q2.csv')\n",
    "df7 = pd.read_csv('../data/chicago/Divvy_Trips_2019_Q3.csv')\n",
    "df8 = pd.read_csv('../data/chicago/Divvy_Trips_2019_Q4.csv')"
   ]
  },
  {
   "cell_type": "code",
   "execution_count": 3,
   "id": "6f7c05d6",
   "metadata": {},
   "outputs": [],
   "source": [
    "df6.columns = df2.columns\n",
    "\n",
    "df = pd.concat([df2, df3, df4, df5, df6, df7, df8])"
   ]
  },
  {
   "cell_type": "code",
   "execution_count": 4,
   "id": "82157640",
   "metadata": {},
   "outputs": [],
   "source": [
    "def get_week(x):\n",
    "    x = str(x)[:10]\n",
    "    week = datetime.datetime.strptime(x, '%Y-%m-%d').isocalendar()[1]\n",
    "    year = datetime.datetime.strptime(x, '%Y-%m-%d').isocalendar()[0]\n",
    "    return str(year) + '-' + str(week)"
   ]
  },
  {
   "cell_type": "code",
   "execution_count": 4,
   "id": "5b027482",
   "metadata": {},
   "outputs": [],
   "source": [
    "df['month'] = df['start_time'].apply(lambda x: str(x)[:7])\n",
    "df['casual'] = np.where(df['usertype']=='Subscriber', 0, 1)"
   ]
  },
  {
   "cell_type": "code",
   "execution_count": 6,
   "id": "9e53eb37",
   "metadata": {},
   "outputs": [],
   "source": [
    "dfout = df[['month', 'casual', 'tripduration']]"
   ]
  },
  {
   "cell_type": "code",
   "execution_count": 8,
   "id": "70fc6004",
   "metadata": {},
   "outputs": [],
   "source": [
    "dfout.to_csv('../data/chicago.csv')"
   ]
  },
  {
   "cell_type": "markdown",
   "id": "968d3877",
   "metadata": {},
   "source": [
    "# 2. Boston"
   ]
  },
  {
   "cell_type": "code",
   "execution_count": 9,
   "id": "c9746e56",
   "metadata": {},
   "outputs": [],
   "source": [
    "df4 = pd.read_csv('../data/boston/201804-hubway-tripdata.csv')\n",
    "df5 = pd.read_csv('../data/boston/201805-bluebikes-tripdata.csv')\n",
    "df6 = pd.read_csv('../data/boston/201806-bluebikes-tripdata.csv')\n",
    "df7 = pd.read_csv('../data/boston/201807-bluebikes-tripdata.csv')\n",
    "df8 = pd.read_csv('../data/boston/201808-bluebikes-tripdata.csv')\n",
    "df9 = pd.read_csv('../data/boston/201809-bluebikes-tripdata.csv')\n",
    "df10 = pd.read_csv('../data/boston/201810-bluebikes-tripdata.csv')\n",
    "df11 = pd.read_csv('../data/boston/201811-bluebikes-tripdata.csv')\n",
    "df12 = pd.read_csv('../data/boston/201812-bluebikes-tripdata.csv')\n",
    "\n",
    "df13 = pd.read_csv('../data/boston/201901-bluebikes-tripdata.csv')\n",
    "df14 = pd.read_csv('../data/boston/201902-bluebikes-tripdata.csv')\n",
    "df15 = pd.read_csv('../data/boston/201903-bluebikes-tripdata.csv')\n",
    "df16 = pd.read_csv('../data/boston/201904-bluebikes-tripdata.csv')\n",
    "df17 = pd.read_csv('../data/boston/201905-bluebikes-tripdata.csv')\n",
    "df18 = pd.read_csv('../data/boston/201906-bluebikes-tripdata.csv')\n",
    "df19 = pd.read_csv('../data/boston/201907-bluebikes-tripdata.csv')\n",
    "df20 = pd.read_csv('../data/boston/201908-bluebikes-tripdata.csv')\n",
    "df21 = pd.read_csv('../data/boston/201909-bluebikes-tripdata.csv')\n",
    "df22 = pd.read_csv('../data/boston/201910-bluebikes-tripdata.csv')\n",
    "df23 = pd.read_csv('../data/boston/201911-bluebikes-tripdata.csv')\n",
    "df24 = pd.read_csv('../data/boston/201912-bluebikes-tripdata.csv')"
   ]
  },
  {
   "cell_type": "code",
   "execution_count": 10,
   "id": "3f584f2f",
   "metadata": {},
   "outputs": [],
   "source": [
    "df = pd.concat([df4, df5, df6, df7, df8, df9, \\\n",
    "                df10, df11, df12, df13, df14, df15, df16, df17, df18, \\\n",
    "               df19, df20, df21, df22, df23, df24])"
   ]
  },
  {
   "cell_type": "code",
   "execution_count": 11,
   "id": "b1da4a9b",
   "metadata": {},
   "outputs": [],
   "source": [
    "df['month'] = df['starttime'].apply(lambda x: str(x)[:7])\n",
    "df['casual'] = np.where(df['usertype']=='Subscriber', 0, 1)"
   ]
  },
  {
   "cell_type": "code",
   "execution_count": 13,
   "id": "7ac6e669",
   "metadata": {},
   "outputs": [],
   "source": [
    "dfout = df[['month', 'casual', 'tripduration']]"
   ]
  },
  {
   "cell_type": "code",
   "execution_count": 15,
   "id": "74e8a56c",
   "metadata": {},
   "outputs": [],
   "source": [
    "dfout.to_csv('../data/boston.csv')"
   ]
  },
  {
   "cell_type": "markdown",
   "id": "b9e57142",
   "metadata": {},
   "source": [
    "# 3. Columbus"
   ]
  },
  {
   "cell_type": "code",
   "execution_count": 16,
   "id": "a5407789",
   "metadata": {},
   "outputs": [],
   "source": [
    "df4 = pd.read_csv('../data/columbus/201804-cogo-tripdata.csv')\n",
    "df5 = pd.read_csv('../data/columbus/201805-cogo-tripdata.csv')\n",
    "df6 = pd.read_csv('../data/columbus/201806-cogo-tripdata.csv')\n",
    "df7 = pd.read_csv('../data/columbus/201807-cogo-tripdata.csv')\n",
    "df8 = pd.read_csv('../data/columbus/201808-cogo-tripdata.csv')\n",
    "df9 = pd.read_csv('../data/columbus/201809-cogo-tripdata.csv')\n",
    "df10 = pd.read_csv('../data/columbus/201810-cogo-tripdata.csv')\n",
    "df11 = pd.read_csv('../data/columbus/201811-cogo-tripdata.csv')\n",
    "df12 = pd.read_csv('../data/columbus/201812-cogo-tripdata.csv')\n",
    "\n",
    "df13 = pd.read_csv('../data/columbus/201901-cogo-tripdata.csv')\n",
    "df14 = pd.read_csv('../data/columbus/201902-cogo-tripdata.csv')\n",
    "df15 = pd.read_csv('../data/columbus/201903-cogo-tripdata.csv')\n",
    "df16 = pd.read_csv('../data/columbus/201904-cogo-tripdata.csv')\n",
    "df17 = pd.read_csv('../data/columbus/201905-cogo-tripdata.csv')\n",
    "df18 = pd.read_csv('../data/columbus/201906-cogo-tripdata.csv')\n",
    "df19 = pd.read_csv('../data/columbus/201907-cogo-tripdata.csv')\n",
    "df20 = pd.read_csv('../data/columbus/201908-cogo-tripdata.csv')\n",
    "df21 = pd.read_csv('../data/columbus/201909-cogo-tripdata.csv')\n",
    "df22 = pd.read_csv('../data/columbus/201910-cogo-tripdata.csv')\n",
    "df23 = pd.read_csv('../data/columbus/201911-cogo-tripdata.csv')\n",
    "df24 = pd.read_csv('../data/columbus/201912-cogo-tripdata.csv')"
   ]
  },
  {
   "cell_type": "code",
   "execution_count": 17,
   "id": "330f72c7",
   "metadata": {},
   "outputs": [],
   "source": [
    "df = pd.concat([df4, df5, df6, df7, df8, df9, \\\n",
    "                df10, df11, df12, df13, df14, df15, df16, df17, df18, \\\n",
    "               df19, df20, df21, df22, df23, df24])"
   ]
  },
  {
   "cell_type": "code",
   "execution_count": 18,
   "id": "94037a45",
   "metadata": {},
   "outputs": [],
   "source": [
    "df['month'] = df['start_time'].apply(lambda x: str(x)[:7])\n",
    "df['casual'] = np.where(df['usertype']=='Subscriber', 0, 1)"
   ]
  },
  {
   "cell_type": "code",
   "execution_count": 20,
   "id": "80594db1",
   "metadata": {},
   "outputs": [],
   "source": [
    "dfout = df[['tripduration', 'month', 'casual']]"
   ]
  },
  {
   "cell_type": "code",
   "execution_count": 21,
   "id": "eeff3b8e",
   "metadata": {},
   "outputs": [],
   "source": [
    "dfout.to_csv('../data/columbus.csv')"
   ]
  },
  {
   "cell_type": "markdown",
   "id": "b20f9c83",
   "metadata": {},
   "source": [
    "# 4. DC"
   ]
  },
  {
   "cell_type": "code",
   "execution_count": 22,
   "id": "4615bdbc",
   "metadata": {},
   "outputs": [],
   "source": [
    "df4 = pd.read_csv('../data/dc/201804-capitalbikeshare-tripdata.csv')\n",
    "df5 = pd.read_csv('../data/dc/201805-capitalbikeshare-tripdata.csv')\n",
    "df6 = pd.read_csv('../data/dc/201806-capitalbikeshare-tripdata.csv')\n",
    "df7 = pd.read_csv('../data/dc/201807-capitalbikeshare-tripdata.csv')\n",
    "df8 = pd.read_csv('../data/dc/201808-capitalbikeshare-tripdata.csv')\n",
    "df9 = pd.read_csv('../data/dc/201809-capitalbikeshare-tripdata.csv')\n",
    "df10 = pd.read_csv('../data/dc/201810-capitalbikeshare-tripdata.csv')\n",
    "df11 = pd.read_csv('../data/dc/201811-capitalbikeshare-tripdata.csv')\n",
    "df12 = pd.read_csv('../data/dc/201812-capitalbikeshare-tripdata.csv')\n",
    "\n",
    "df13 = pd.read_csv('../data/dc/201901-capitalbikeshare-tripdata.csv')\n",
    "df14 = pd.read_csv('../data/dc/201902-capitalbikeshare-tripdata.csv')\n",
    "df15 = pd.read_csv('../data/dc/201903-capitalbikeshare-tripdata.csv')\n",
    "df16 = pd.read_csv('../data/dc/201904-capitalbikeshare-tripdata.csv')\n",
    "df17 = pd.read_csv('../data/dc/201905-capitalbikeshare-tripdata.csv')\n",
    "df18 = pd.read_csv('../data/dc/201906-capitalbikeshare-tripdata.csv')\n",
    "df19 = pd.read_csv('../data/dc/201907-capitalbikeshare-tripdata.csv')\n",
    "df20 = pd.read_csv('../data/dc/201908-capitalbikeshare-tripdata.csv')\n",
    "df21 = pd.read_csv('../data/dc/201909-capitalbikeshare-tripdata.csv')\n",
    "df22 = pd.read_csv('../data/dc/201910-capitalbikeshare-tripdata.csv')\n",
    "df23 = pd.read_csv('../data/dc/201911-capitalbikeshare-tripdata.csv')\n",
    "df24 = pd.read_csv('../data/dc/201912-capitalbikeshare-tripdata.csv')"
   ]
  },
  {
   "cell_type": "code",
   "execution_count": 23,
   "id": "4959102b",
   "metadata": {},
   "outputs": [],
   "source": [
    "df = pd.concat([df4, df5, df6, df7, df8, df9, \\\n",
    "                df10, df11, df12, df13, df14, df15, df16, df17, df18, \\\n",
    "               df19, df20, df21, df22, df23, df24])"
   ]
  },
  {
   "cell_type": "code",
   "execution_count": 24,
   "id": "d77d5fa7",
   "metadata": {},
   "outputs": [],
   "source": [
    "df['month'] = df['Start date'].apply(lambda x: str(x)[:7])\n",
    "df['casual'] = np.where(df['Member type']=='Member', 0, 1)"
   ]
  },
  {
   "cell_type": "code",
   "execution_count": 26,
   "id": "24231a19",
   "metadata": {},
   "outputs": [],
   "source": [
    "dfout = df[['Duration', 'month', 'casual']]"
   ]
  },
  {
   "cell_type": "code",
   "execution_count": 27,
   "id": "5e66e436",
   "metadata": {},
   "outputs": [],
   "source": [
    "dfout.to_csv('../data/dc.csv')"
   ]
  },
  {
   "cell_type": "markdown",
   "id": "2a0fc728",
   "metadata": {},
   "source": [
    "# 5. Philly"
   ]
  },
  {
   "cell_type": "code",
   "execution_count": 28,
   "id": "61da66e2",
   "metadata": {
    "scrolled": true
   },
   "outputs": [
    {
     "name": "stderr",
     "output_type": "stream",
     "text": [
      "/software/python-anaconda-2020.11-el8-x86_64/lib/python3.8/site-packages/IPython/core/interactiveshell.py:3457: DtypeWarning: Columns (10) have mixed types.Specify dtype option on import or set low_memory=False.\n",
      "  exec(code_obj, self.user_global_ns, self.user_ns)\n"
     ]
    }
   ],
   "source": [
    "df2 = pd.read_csv('../data/philly/indego-trips-2018-q2.csv')\n",
    "df3 = pd.read_csv('../data/philly/indego-trips-2018-q3.csv')\n",
    "df4 = pd.read_csv('../data/philly/indego-trips-2018-q4.csv')\n",
    "df5 = pd.read_csv('../data/philly/indego-trips-2019-q1.csv')\n",
    "df6 = pd.read_csv('../data/philly/indego-trips-2019-q2.csv')\n",
    "df7 = pd.read_csv('../data/philly/indego-trips-2019-q3.csv')\n",
    "df8 = pd.read_csv('../data/philly/indego-trips-2019-q4.csv')"
   ]
  },
  {
   "cell_type": "code",
   "execution_count": 29,
   "id": "3d6df03c",
   "metadata": {},
   "outputs": [],
   "source": [
    "df7['start_time'] = df7['start_time'].apply(lambda x: datetime.datetime.strptime(x, '%m/%d/%Y %H:%M').strftime('%Y-%m-%d'))"
   ]
  },
  {
   "cell_type": "code",
   "execution_count": 30,
   "id": "f5778a34",
   "metadata": {},
   "outputs": [],
   "source": [
    "df = pd.concat([df2, df3, df4, df5, df6, df7, df8])"
   ]
  },
  {
   "cell_type": "code",
   "execution_count": 31,
   "id": "8b1ce54d",
   "metadata": {},
   "outputs": [],
   "source": [
    "df['month'] = df['start_time'].apply(lambda x: str(x)[:7])\n",
    "df['casual'] = np.where(df['passholder_type'].isin(['Indego30', 'Indego365']), 0, 1)"
   ]
  },
  {
   "cell_type": "code",
   "execution_count": 33,
   "id": "57e688cf",
   "metadata": {},
   "outputs": [],
   "source": [
    "dfout = df[['month', 'casual', 'duration']]"
   ]
  },
  {
   "cell_type": "code",
   "execution_count": 34,
   "id": "e9c00bce",
   "metadata": {},
   "outputs": [],
   "source": [
    "dfout.to_csv('../data/philly.csv')"
   ]
  },
  {
   "cell_type": "markdown",
   "id": "42fa811e",
   "metadata": {},
   "source": [
    "# 6. Portland"
   ]
  },
  {
   "cell_type": "code",
   "execution_count": 35,
   "id": "ddd09c45",
   "metadata": {},
   "outputs": [],
   "source": [
    "df4 = pd.read_csv('../data/portland/2018_04.csv')\n",
    "df5 = pd.read_csv('../data/portland/2018_05.csv')\n",
    "df6 = pd.read_csv('../data/portland/2018_06.csv')\n",
    "df7 = pd.read_csv('../data/portland/2018_07.csv')\n",
    "df8 = pd.read_csv('../data/portland/2018_08.csv')\n",
    "df9 = pd.read_csv('../data/portland/2018_09.csv')\n",
    "df10 = pd.read_csv('../data/portland/2018_10.csv')\n",
    "df11 = pd.read_csv('../data/portland/2018_11.csv')\n",
    "df12 = pd.read_csv('../data/portland/2018_12.csv')\n",
    "\n",
    "df13 = pd.read_csv('../data/portland/2019_01.csv')\n",
    "df14 = pd.read_csv('../data/portland/2019_02.csv')\n",
    "df15 = pd.read_csv('../data/portland/2019_03.csv')\n",
    "df16 = pd.read_csv('../data/portland/2019_04.csv')\n",
    "df17 = pd.read_csv('../data/portland/2019_05.csv')\n",
    "df18 = pd.read_csv('../data/portland/2019_06.csv')\n",
    "df19 = pd.read_csv('../data/portland/2019_07.csv')\n",
    "df20 = pd.read_csv('../data/portland/2019_08.csv')\n",
    "df21 = pd.read_csv('../data/portland/2019_09.csv')\n",
    "df22 = pd.read_csv('../data/portland/2019_10.csv')\n",
    "df23 = pd.read_csv('../data/portland/2019_11.csv')\n",
    "df24 = pd.read_csv('../data/portland/2019_12.csv')"
   ]
  },
  {
   "cell_type": "code",
   "execution_count": 36,
   "id": "1fd9d31c",
   "metadata": {},
   "outputs": [],
   "source": [
    "df = pd.concat([df4, df5, df6, df7, df8, df9, \\\n",
    "                df10, df11, df12, df13, df14, df15, df16, df17, df18, \\\n",
    "               df19, df20, df21, df22, df23, df24])"
   ]
  },
  {
   "cell_type": "code",
   "execution_count": 37,
   "id": "dcecc5f0",
   "metadata": {},
   "outputs": [],
   "source": [
    "df['StartDate2'] = df['StartDate'].apply(lambda x: datetime.datetime.strptime(x, '%m/%d/%Y').strftime('%Y-%m-%d'))"
   ]
  },
  {
   "cell_type": "code",
   "execution_count": 38,
   "id": "267ab74c",
   "metadata": {},
   "outputs": [],
   "source": [
    "df['month'] = df['StartDate2'].apply(lambda x: str(x)[:7])\n",
    "df['casual'] = np.where(df['PaymentPlan']=='Subscriber', 0, 1)"
   ]
  },
  {
   "cell_type": "code",
   "execution_count": 41,
   "id": "9d960810",
   "metadata": {},
   "outputs": [],
   "source": [
    "dfout = df[['Duration', 'month', 'casual']]"
   ]
  },
  {
   "cell_type": "code",
   "execution_count": 42,
   "id": "22a76ade",
   "metadata": {},
   "outputs": [],
   "source": [
    "dfout.to_csv('../data/portland.csv')"
   ]
  },
  {
   "cell_type": "markdown",
   "id": "6b1d1195",
   "metadata": {},
   "source": [
    "# 7. Pittsburgh"
   ]
  },
  {
   "cell_type": "code",
   "execution_count": 43,
   "id": "eeb60c2d",
   "metadata": {},
   "outputs": [],
   "source": [
    "df2 = pd.read_csv('../data/pittsburgh/healthy-ride-rentals-2018-q2.csv')\n",
    "df3 = pd.read_csv('../data/pittsburgh/healthy-ride-rentals-2018-q3.csv')\n",
    "df4 = pd.read_csv('../data/pittsburgh/healthyride-rentals-2018-q4.csv')\n",
    "df5 = pd.read_excel('../data/pittsburgh/Healthy Ride Rentals 2019 Q1.xlsx')\n",
    "df6 = pd.read_excel('../data/pittsburgh/Healthy Ride Rentals Q2 2019.xlsx')\n",
    "df7 = pd.read_excel('../data/pittsburgh/Healthy RIde Rentals 2019 Q3.xlsx')\n",
    "df8 = pd.read_csv('../data/pittsburgh/Healthy Ride Rentals 2019 Q4.csv')"
   ]
  },
  {
   "cell_type": "code",
   "execution_count": 44,
   "id": "8df76be4",
   "metadata": {},
   "outputs": [],
   "source": [
    "df2['Starttime'] = df2['Starttime'].apply(lambda x: datetime.datetime.strptime(x, '%m/%d/%Y %H:%M').strftime('%Y-%m-%d'))\n",
    "df3['Starttime'] = df3['Starttime'].apply(lambda x: datetime.datetime.strptime(x, '%m/%d/%Y %H:%M').strftime('%Y-%m-%d'))\n",
    "df4['Starttime'] = df4['Starttime'].apply(lambda x: datetime.datetime.strptime(x, '%m/%d/%Y %H:%M').strftime('%Y-%m-%d'))\n",
    "df8['Starttime'] = df8['Starttime'].apply(lambda x: datetime.datetime.strptime(x, '%m/%d/%Y %H:%M').strftime('%Y-%m-%d'))"
   ]
  },
  {
   "cell_type": "code",
   "execution_count": 45,
   "id": "0aaf4222",
   "metadata": {},
   "outputs": [],
   "source": [
    "df = pd.concat([df2, df3, df4, df5, df6, df7, df8])"
   ]
  },
  {
   "cell_type": "code",
   "execution_count": 46,
   "id": "dfcb7b73",
   "metadata": {},
   "outputs": [],
   "source": [
    "df['month'] = df['Starttime'].apply(lambda x: str(x)[:7])\n",
    "df['casual'] = np.where(df['Usertype']=='Subscriber', 0, 1)"
   ]
  },
  {
   "cell_type": "code",
   "execution_count": 48,
   "id": "dd5df0cc",
   "metadata": {},
   "outputs": [],
   "source": [
    "dfout = df[['Tripduration', 'month', 'casual']]"
   ]
  },
  {
   "cell_type": "code",
   "execution_count": 49,
   "id": "6ddad821",
   "metadata": {},
   "outputs": [],
   "source": [
    "dfout.to_csv('../data/pittsburgh.csv')"
   ]
  },
  {
   "cell_type": "markdown",
   "id": "87bf8644",
   "metadata": {},
   "source": [
    "# 8. NYC"
   ]
  },
  {
   "cell_type": "code",
   "execution_count": 2,
   "id": "8b43cedb",
   "metadata": {},
   "outputs": [],
   "source": [
    "df4 = pd.read_csv('../data/nyc/201804-citibike-tripdata.csv')\n",
    "df5 = pd.read_csv('../data/nyc/201805-citibike-tripdata.csv')\n",
    "df6 = pd.read_csv('../data/nyc/201806-citibike-tripdata.csv')\n",
    "df7 = pd.read_csv('../data/nyc/201807-citibike-tripdata.csv')\n",
    "df8 = pd.read_csv('../data/nyc/201808-citibike-tripdata.csv')\n",
    "df9 = pd.read_csv('../data/nyc/201809-citibike-tripdata.csv')\n",
    "df10 = pd.read_csv('../data/nyc/201810-citibike-tripdata.csv')\n",
    "df11 = pd.read_csv('../data/nyc/201811-citibike-tripdata.csv')\n",
    "df12 = pd.read_csv('../data/nyc/201812-citibike-tripdata.csv')\n",
    "\n",
    "df13 = pd.read_csv('../data/nyc/201901-citibike-tripdata.csv')\n",
    "df14 = pd.read_csv('../data/nyc/201902-citibike-tripdata.csv')\n",
    "df15 = pd.read_csv('../data/nyc/201903-citibike-tripdata.csv')\n",
    "df16 = pd.read_csv('../data/nyc/201904-citibike-tripdata.csv')\n",
    "df17 = pd.read_csv('../data/nyc/201905-citibike-tripdata.csv')\n",
    "df18 = pd.read_csv('../data/nyc/201906-citibike-tripdata.csv')\n",
    "df19 = pd.read_csv('../data/nyc/201907-citibike-tripdata.csv')\n",
    "df20 = pd.read_csv('../data/nyc/201908-citibike-tripdata.csv')\n",
    "df21 = pd.read_csv('../data/nyc/201909-citibike-tripdata.csv')\n",
    "df22 = pd.read_csv('../data/nyc/201910-citibike-tripdata.csv')\n",
    "df23 = pd.read_csv('../data/nyc/201911-citibike-tripdata.csv')\n",
    "df24 = pd.read_csv('../data/nyc/201912-citibike-tripdata.csv')"
   ]
  },
  {
   "cell_type": "code",
   "execution_count": 3,
   "id": "34fdc42d",
   "metadata": {},
   "outputs": [],
   "source": [
    "df = pd.concat([df4, df5, df6, df7, df8, df9, \\\n",
    "                df10, df11, df12, df13, df14, df15, df16, df17, df18, \\\n",
    "               df19, df20, df21, df22, df23, df24])"
   ]
  },
  {
   "cell_type": "code",
   "execution_count": 4,
   "id": "e279da94",
   "metadata": {},
   "outputs": [],
   "source": [
    "df['month'] = df['starttime'].apply(lambda x: str(x)[:7])\n",
    "df['casual'] = np.where(df['usertype']=='Subscriber', 0, 1)"
   ]
  },
  {
   "cell_type": "code",
   "execution_count": 6,
   "id": "e3b6d8e5",
   "metadata": {},
   "outputs": [],
   "source": [
    "dfout = df[['month', 'casual', 'tripduration']]"
   ]
  },
  {
   "cell_type": "code",
   "execution_count": 7,
   "id": "4fc2c3dc",
   "metadata": {},
   "outputs": [],
   "source": [
    "dfout.to_csv('../data/nyc.csv')"
   ]
  },
  {
   "cell_type": "markdown",
   "id": "85f90770",
   "metadata": {},
   "source": [
    "# Chicago Previous year"
   ]
  },
  {
   "cell_type": "code",
   "execution_count": 2,
   "id": "d75771e7",
   "metadata": {},
   "outputs": [],
   "source": [
    "df1 = pd.read_csv('../data/chicago/Divvy_Trips_2017_Q2.csv')\n",
    "df2 = pd.read_csv('../data/chicago/Divvy_Trips_2017_Q3.csv')\n",
    "df3 = pd.read_csv('../data/chicago/Divvy_Trips_2017_Q4.csv')\n",
    "df4 = pd.read_csv('../data/chicago/Divvy_Trips_2018_Q1.csv')\n",
    "df5 = pd.read_csv('../data/chicago/Divvy_Trips_2018_Q2.csv')\n",
    "df6 = pd.read_csv('../data/chicago/Divvy_Trips_2018_Q3.csv')\n",
    "df7 = pd.read_csv('../data/chicago/Divvy_Trips_2018_Q4.csv')"
   ]
  },
  {
   "cell_type": "code",
   "execution_count": 3,
   "id": "375b7035",
   "metadata": {},
   "outputs": [],
   "source": [
    "def try_parsing_date(text):\n",
    "    for fmt in ('%m/%d/%Y %H:%M:%S', '%m/%d/%Y %H:%M', '%Y-%m-%d'):\n",
    "        try:\n",
    "            return datetime.datetime.strptime(text, fmt).strftime('%Y-%m-%d')\n",
    "        except ValueError:\n",
    "            pass"
   ]
  },
  {
   "cell_type": "code",
   "execution_count": 4,
   "id": "e5e25f68",
   "metadata": {},
   "outputs": [],
   "source": [
    "df1['start_time'] = df1['start_time'].apply(lambda x: try_parsing_date(x))\n",
    "df2['start_time'] = df2['start_time'].apply(lambda x: try_parsing_date(x))\n",
    "df3['start_time'] = df3['start_time'].apply(lambda x: try_parsing_date(x))"
   ]
  },
  {
   "cell_type": "code",
   "execution_count": 5,
   "id": "44d1b069",
   "metadata": {},
   "outputs": [],
   "source": [
    "df4.columns = df2.columns\n",
    "\n",
    "df = pd.concat([df1, df2, df3, df4, df5, df6, df7])"
   ]
  },
  {
   "cell_type": "code",
   "execution_count": 6,
   "id": "ea60add3",
   "metadata": {},
   "outputs": [],
   "source": [
    "df['month'] = df['start_time'].apply(lambda x: str(x)[:7])\n",
    "df['casual'] = np.where(df['usertype']=='Subscriber', 0, 1)"
   ]
  },
  {
   "cell_type": "code",
   "execution_count": 7,
   "id": "41fae65f",
   "metadata": {},
   "outputs": [],
   "source": [
    "dfout = df[['month', 'casual', 'tripduration']]"
   ]
  },
  {
   "cell_type": "code",
   "execution_count": 8,
   "id": "af419445",
   "metadata": {},
   "outputs": [],
   "source": [
    "dfout.to_csv('../data/chicago_prev.csv')"
   ]
  },
  {
   "cell_type": "markdown",
   "id": "4d5d271f",
   "metadata": {},
   "source": [
    "# Boston previous year"
   ]
  },
  {
   "cell_type": "code",
   "execution_count": 2,
   "id": "650e2a04",
   "metadata": {},
   "outputs": [],
   "source": [
    "df1 = pd.read_csv('../data/boston/201704-hubway-tripdata.csv')\n",
    "df2 = pd.read_csv('../data/boston/201705-hubway-tripdata.csv')\n",
    "df3 = pd.read_csv('../data/boston/201706-hubway-tripdata.csv')\n",
    "df4 = pd.read_csv('../data/boston/201707-hubway-tripdata.csv')\n",
    "df5 = pd.read_csv('../data/boston/201708-hubway-tripdata.csv')\n",
    "df6 = pd.read_csv('../data/boston/201709-hubway-tripdata.csv')\n",
    "df7 = pd.read_csv('../data/boston/201710-hubway-tripdata.csv')\n",
    "df8 = pd.read_csv('../data/boston/201711-hubway-tripdata.csv')\n",
    "df9 = pd.read_csv('../data/boston/201712-hubway-tripdata.csv')\n",
    "\n",
    "df10 = pd.read_csv('../data/boston/201801_hubway_tripdata.csv')\n",
    "df11 = pd.read_csv('../data/boston/201802_hubway_tripdata.csv')\n",
    "df12 = pd.read_csv('../data/boston/201803_hubway_tripdata.csv')\n",
    "df13 = pd.read_csv('../data/boston/201804-hubway-tripdata.csv')\n",
    "df14 = pd.read_csv('../data/boston/201805-bluebikes-tripdata.csv')\n",
    "df15 = pd.read_csv('../data/boston/201806-bluebikes-tripdata.csv')\n",
    "df16 = pd.read_csv('../data/boston/201807-bluebikes-tripdata.csv')\n",
    "df17 = pd.read_csv('../data/boston/201808-bluebikes-tripdata.csv')\n",
    "df18 = pd.read_csv('../data/boston/201809-bluebikes-tripdata.csv')\n",
    "df19 = pd.read_csv('../data/boston/201810-bluebikes-tripdata.csv')\n",
    "df20 = pd.read_csv('../data/boston/201811-bluebikes-tripdata.csv')\n",
    "df21 = pd.read_csv('../data/boston/201812-bluebikes-tripdata.csv')"
   ]
  },
  {
   "cell_type": "code",
   "execution_count": 3,
   "id": "4b881f41",
   "metadata": {},
   "outputs": [],
   "source": [
    "df = pd.concat([df1, df2, df3,df4, df5, df6, df7, df8, df9, \\\n",
    "                df10, df11, df12, df13, df14, df15, df16, df17, df18, \\\n",
    "               df19, df20, df21])"
   ]
  },
  {
   "cell_type": "code",
   "execution_count": 4,
   "id": "b7c26393",
   "metadata": {},
   "outputs": [],
   "source": [
    "df['month'] = df['starttime'].apply(lambda x: str(x)[:7])\n",
    "df['casual'] = np.where(df['usertype']=='Subscriber', 0, 1)"
   ]
  },
  {
   "cell_type": "code",
   "execution_count": 5,
   "id": "538d1cce",
   "metadata": {},
   "outputs": [],
   "source": [
    "dfout = df[['month', 'casual', 'tripduration']]"
   ]
  },
  {
   "cell_type": "code",
   "execution_count": 6,
   "id": "482a04a3",
   "metadata": {},
   "outputs": [],
   "source": [
    "dfout.to_csv('../data/boston_prev.csv')"
   ]
  },
  {
   "cell_type": "markdown",
   "id": "fb3d9c82",
   "metadata": {},
   "source": [
    "# DC previous year"
   ]
  },
  {
   "cell_type": "code",
   "execution_count": 7,
   "id": "ab88e213",
   "metadata": {},
   "outputs": [],
   "source": [
    "df1 = pd.read_csv('../data/dc/2017Q2-capitalbikeshare-tripdata.csv')\n",
    "df2 = pd.read_csv('../data/dc/2017Q3-capitalbikeshare-tripdata.csv')\n",
    "df3 = pd.read_csv('../data/dc/2017Q4-capitalbikeshare-tripdata.csv')\n",
    "\n",
    "df4 = pd.read_csv('../data/dc/201801_capitalbikeshare_tripdata.csv')\n",
    "df5 = pd.read_csv('../data/dc/201802-capitalbikeshare-tripdata.csv')\n",
    "df6 = pd.read_csv('../data/dc/201803-capitalbikeshare-tripdata.csv')\n",
    "df7 = pd.read_csv('../data/dc/201804-capitalbikeshare-tripdata.csv')\n",
    "df8 = pd.read_csv('../data/dc/201805-capitalbikeshare-tripdata.csv')\n",
    "df9 = pd.read_csv('../data/dc/201806-capitalbikeshare-tripdata.csv')\n",
    "df10 = pd.read_csv('../data/dc/201807-capitalbikeshare-tripdata.csv')\n",
    "df11 = pd.read_csv('../data/dc/201808-capitalbikeshare-tripdata.csv')\n",
    "df12 = pd.read_csv('../data/dc/201809-capitalbikeshare-tripdata.csv')\n",
    "df13 = pd.read_csv('../data/dc/201810-capitalbikeshare-tripdata.csv')\n",
    "df14 = pd.read_csv('../data/dc/201811-capitalbikeshare-tripdata.csv')\n",
    "df15 = pd.read_csv('../data/dc/201812-capitalbikeshare-tripdata.csv')"
   ]
  },
  {
   "cell_type": "code",
   "execution_count": 8,
   "id": "97da5d5e",
   "metadata": {},
   "outputs": [],
   "source": [
    "df = pd.concat([df1, df2, df3,df4, df5, df6, df7, df8, df9, \\\n",
    "                df10, df11, df12, df13, df14, df15])"
   ]
  },
  {
   "cell_type": "code",
   "execution_count": 9,
   "id": "8c109428",
   "metadata": {},
   "outputs": [],
   "source": [
    "df['month'] = df['Start date'].apply(lambda x: str(x)[:7])\n",
    "df['casual'] = np.where(df['Member type']=='Member', 0, 1)"
   ]
  },
  {
   "cell_type": "code",
   "execution_count": 10,
   "id": "5682cbdc",
   "metadata": {},
   "outputs": [],
   "source": [
    "dfout = df[['Duration', 'month', 'casual']]"
   ]
  },
  {
   "cell_type": "code",
   "execution_count": 11,
   "id": "09c918f9",
   "metadata": {},
   "outputs": [],
   "source": [
    "dfout.to_csv('../data/dc_prev.csv')"
   ]
  },
  {
   "cell_type": "markdown",
   "id": "96704041",
   "metadata": {},
   "source": [
    "# NYC previous"
   ]
  },
  {
   "cell_type": "code",
   "execution_count": 2,
   "id": "1cae894c",
   "metadata": {},
   "outputs": [],
   "source": [
    "df1 = pd.read_csv('../data/nyc/201704-citibike-tripdata.csv')\n",
    "df2 = pd.read_csv('../data/nyc/201705-citibike-tripdata.csv')\n",
    "df3 = pd.read_csv('../data/nyc/201706-citibike-tripdata.csv')\n",
    "df4 = pd.read_csv('../data/nyc/201707-citibike-tripdata.csv')\n",
    "df5 = pd.read_csv('../data/nyc/201708-citibike-tripdata.csv')\n",
    "df6 = pd.read_csv('../data/nyc/201709-citibike-tripdata.csv')\n",
    "df7 = pd.read_csv('../data/nyc/201710-citibike-tripdata.csv')\n",
    "df8 = pd.read_csv('../data/nyc/201711-citibike-tripdata.csv')\n",
    "df9 = pd.read_csv('../data/nyc/201712-citibike-tripdata.csv')\n",
    "\n",
    "df10 = pd.read_csv('../data/nyc/201801-citibike-tripdata.csv')\n",
    "df11 = pd.read_csv('../data/nyc/201802-citibike-tripdata.csv')\n",
    "df12 = pd.read_csv('../data/nyc/201803-citibike-tripdata.csv')\n",
    "df13 = pd.read_csv('../data/nyc/201804-citibike-tripdata.csv')\n",
    "df14 = pd.read_csv('../data/nyc/201805-citibike-tripdata.csv')\n",
    "df15 = pd.read_csv('../data/nyc/201806-citibike-tripdata.csv')\n",
    "df16 = pd.read_csv('../data/nyc/201807-citibike-tripdata.csv')\n",
    "df17 = pd.read_csv('../data/nyc/201808-citibike-tripdata.csv')\n",
    "df18 = pd.read_csv('../data/nyc/201809-citibike-tripdata.csv')\n",
    "df19 = pd.read_csv('../data/nyc/201810-citibike-tripdata.csv')\n",
    "df20 = pd.read_csv('../data/nyc/201811-citibike-tripdata.csv')\n",
    "df21 = pd.read_csv('../data/nyc/201812-citibike-tripdata.csv')"
   ]
  },
  {
   "cell_type": "code",
   "execution_count": 3,
   "id": "6aa91e88",
   "metadata": {},
   "outputs": [],
   "source": [
    "df = pd.concat([df1, df2, df3,df4, df5, df6, df7, df8, df9, \\\n",
    "                df10, df11, df12, df13, df14, df15, df16, df17, df18, \\\n",
    "               df19, df20, df21])"
   ]
  },
  {
   "cell_type": "code",
   "execution_count": 4,
   "id": "7a324004",
   "metadata": {},
   "outputs": [],
   "source": [
    "df['month'] = df['starttime'].apply(lambda x: str(x)[:7])\n",
    "df['casual'] = np.where(df['usertype']=='Subscriber', 0, 1)"
   ]
  },
  {
   "cell_type": "code",
   "execution_count": 5,
   "id": "bff35dc4",
   "metadata": {},
   "outputs": [],
   "source": [
    "dfout = df[['month', 'casual', 'tripduration']]"
   ]
  },
  {
   "cell_type": "code",
   "execution_count": 6,
   "id": "d28dc17a",
   "metadata": {},
   "outputs": [],
   "source": [
    "dfout.to_csv('../data/nyc_prev.csv')"
   ]
  },
  {
   "cell_type": "code",
   "execution_count": null,
   "id": "cb5963a3",
   "metadata": {},
   "outputs": [],
   "source": []
  },
  {
   "cell_type": "code",
   "execution_count": 23,
   "id": "8153c82b",
   "metadata": {
    "scrolled": true
   },
   "outputs": [
    {
     "data": {
      "image/png": "[encoded data removed]",
      "text/plain": [
       "<Figure size 720x288 with 1 Axes>"
      ]
     },
     "metadata": {
      "needs_background": "light"
     },
     "output_type": "display_data"
    }
   ],
   "source": [
    "casual_rates = df.groupby('month')['casual'].mean()\n",
    "plt.figure()\n",
    "casual_rates.plot(figsize=(10, 4), xlabel='Month', ylabel='Casual Trip Rate', \\\n",
    "                          title = f'Weekly Casual Trip Rate 2017-2018')\n",
    "plt.show()"
   ]
  },
  {
   "cell_type": "code",
   "execution_count": null,
   "id": "2acbbc96",
   "metadata": {},
   "outputs": [],
   "source": []
  },
  {
   "cell_type": "code",
   "execution_count": null,
   "id": "7d1d3122",
   "metadata": {},
   "outputs": [],
   "source": []
  }
 ],
 "metadata": {
  "kernelspec": {
   "display_name": "Python 3 (ipykernel)",
   "language": "python",
   "name": "python3"
  },
  "language_info": {
   "codemirror_mode": {
    "name": "ipython",
    "version": 3
   },
   "file_extension": ".py",
   "mimetype": "text/x-python",
   "name": "python",
   "nbconvert_exporter": "python",
   "pygments_lexer": "ipython3",
   "version": "3.8.5"
  }
 },
 "nbformat": 4,
 "nbformat_minor": 5
}
